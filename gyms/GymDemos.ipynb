{
 "cells": [
  {
   "cell_type": "code",
   "execution_count": 1,
   "id": "8e6ef347",
   "metadata": {},
   "outputs": [],
   "source": [
    "from gymEnvs import *"
   ]
  },
  {
   "cell_type": "code",
   "execution_count": 2,
   "id": "04cdad69",
   "metadata": {},
   "outputs": [
    {
     "name": "stdout",
     "output_type": "stream",
     "text": [
      "(2, 2) (2, 2)\n"
     ]
    },
    {
     "data": {
      "image/png": "[encoded data removed]",
      "text/plain": [
       "<Figure size 432x288 with 1 Axes>"
      ]
     },
     "metadata": {
      "needs_background": "light"
     },
     "output_type": "display_data"
    }
   ],
   "source": [
    "env = IsingEnv(n=32,N=64)\n",
    "obs,rew,done,_ = env.step(0)\n",
    "plt.imshow(obs[0])\n",
    "plt.show()"
   ]
  },
  {
   "cell_type": "code",
   "execution_count": 3,
   "id": "df5ef90c",
   "metadata": {},
   "outputs": [
    {
     "data": {
      "text/plain": [
       "(-0.5969661619615847, -1.8756370790495789)"
      ]
     },
     "execution_count": 3,
     "metadata": {},
     "output_type": "execute_result"
    }
   ],
   "source": [
    "env.M,env.E"
   ]
  },
  {
   "cell_type": "code",
   "execution_count": 4,
   "id": "323e0f8b",
   "metadata": {},
   "outputs": [
    {
     "name": "stderr",
     "output_type": "stream",
     "text": [
      "Clipping input data to the valid range for imshow with RGB data ([0..1] for floats or [0..255] for integers).\n"
     ]
    },
    {
     "data": {
      "image/png": "[encoded data removed]",
      "text/plain": [
       "<Figure size 432x288 with 1 Axes>"
      ]
     },
     "metadata": {
      "needs_background": "light"
     },
     "output_type": "display_data"
    }
   ],
   "source": [
    "env.render()"
   ]
  },
  {
   "cell_type": "code",
   "execution_count": 5,
   "id": "2de00fa1",
   "metadata": {},
   "outputs": [
    {
     "data": {
      "image/png": "[encoded data removed]",
      "text/plain": [
       "<Figure size 432x288 with 1 Axes>"
      ]
     },
     "metadata": {
      "needs_background": "light"
     },
     "output_type": "display_data"
    }
   ],
   "source": [
    "for x in range(1000):\n",
    "    obs,rew,done,_ = env.step(1)\n",
    "plt.imshow(obs[0])\n",
    "plt.show()"
   ]
  },
  {
   "cell_type": "code",
   "execution_count": 6,
   "id": "a70e37ff",
   "metadata": {},
   "outputs": [
    {
     "data": {
      "application/vnd.jupyter.widget-view+json": {
       "model_id": "f0e8efa1b3894fc2a5bda80d0ab9a6a2",
       "version_major": 2,
       "version_minor": 0
      },
      "text/plain": [
       "Controller()"
      ]
     },
     "metadata": {},
     "output_type": "display_data"
    }
   ],
   "source": [
    "import ipywidgets as widgets\n",
    "import time\n",
    "from threading import Thread,Lock\n",
    "from ipycanvas import Canvas\n",
    "from ipywidgets import Image, HBox\n",
    "from IPython.display import HTML, clear_output\n",
    "from traitlets import dlink\n",
    "#canvas = Canvas(width=512, height=512)\n",
    "controller = widgets.Controller(\n",
    "    index=0,\n",
    ")\n",
    "controller"
   ]
  },
  {
   "cell_type": "code",
   "execution_count": 7,
   "id": "ea69078f",
   "metadata": {},
   "outputs": [],
   "source": [
    "def fig2img(fig,axs,crop=False,fixrgb=True):\n",
    "    \"\"\"This converts a matplotlib figure into an image, note: it runds kind of slowly\n",
    "    Paramaters:\n",
    "    fig -- the figure you get from calling fig = plt.figure()\n",
    "    axs -- the axis you get from calling   axs = plt.gca()\n",
    "    crop (bool) -- whether or not to crop the output image to remove the tranparent padding\n",
    "    fixrgb (bool) -- True to call to_rgb on the output rgba image, false to just take the rgb channels\n",
    "    \"\"\"\n",
    "    #ax.axis('off')\n",
    "    fig.tight_layout()\n",
    "    fig.canvas.draw()\n",
    "    \n",
    "    argb = np.fromstring(fig.canvas.tostring_argb(), dtype=np.uint8, sep='')\n",
    "    argb = argb.reshape(fig.canvas.get_width_height()[::-1] + (4,))\n",
    "    #plt.close()\n",
    "    return to_rgb(argb) if fixrgb else argb[:,:,1:]"
   ]
  },
  {
   "cell_type": "code",
   "execution_count": 9,
   "id": "1aff2b28",
   "metadata": {
    "scrolled": true
   },
   "outputs": [
    {
     "name": "stdout",
     "output_type": "stream",
     "text": [
      "(2, 2) (8, 8)\n",
      "Controls: X to start, Left Joystick to move\n"
     ]
    },
    {
     "data": {
      "application/vnd.jupyter.widget-view+json": {
       "model_id": "627ee9aa6936492385b78101e45866f6",
       "version_major": 2,
       "version_minor": 0
      },
      "text/plain": [
       "Canvas(height=400, width=400)"
      ]
     },
     "metadata": {},
     "output_type": "display_data"
    }
   ],
   "source": [
    "class Render(Thread):\n",
    "    def __init__(self, canvas,pad,env,controls={'mew':0,'T':0,'start':False}):\n",
    "        self.canvas = canvas\n",
    "        self.isalive=True\n",
    "        #self.pad = widgets.Controller(index=0)\n",
    "        self.pad=pad\n",
    "        self.controls=controls\n",
    "        pad.observe(self.callback)\n",
    "        self.env=env()\n",
    "        super(Render, self).__init__()\n",
    "    def callback(self,change):\n",
    "        for joy_stick_index, axis in enumerate(change['owner'].axes):\n",
    "            if joy_stick_index==1:\n",
    "                self.controls['T']=-axis.value\n",
    "            if joy_stick_index==0:\n",
    "                self.controls['mew']=axis.value\n",
    "        for button_index, button in enumerate(change['owner'].buttons):\n",
    "            if(button_index==0):\n",
    "                self.controls['start']=button.pressed\n",
    "        #self.canvas.put_image_data(np.ones([256,256,3])*128, 0, 0)\n",
    "\n",
    "    def toaction(self):\n",
    "        T=self.controls['T']\n",
    "        taction=[0,3,4,1,2][round(2.4*T)]\n",
    "        mew=self.controls['mew']\n",
    "        maction=[0,7,8,5,6][round(2.4*mew)]\n",
    "        return max(maction,taction)\n",
    "    def run(self):\n",
    "        canvas.font = '32px serif'\n",
    "        t=time.time()\n",
    "        self.canvas.put_image_data(np.ones([256,256,3])*128, 0, 0)\n",
    "        while self.isalive:\n",
    "            done = False\n",
    "            obs=self.env.reset()\n",
    "            while not self.controls['start'] and self.isalive:\n",
    "                time.sleep(0.01)\n",
    "            \n",
    "            returns=0\n",
    "            self.steps=0\n",
    "            while not done and self.isalive:\n",
    "                act=self.toaction()\n",
    "                time.sleep(0.05)\n",
    "                self.steps+=1\n",
    "                obs,rew,done,_=self.env.step(act)\n",
    "                returns+=rew\n",
    "\n",
    "                self.canvas.put_image_data(self.env._prerender(), 0, 0)\n",
    "                \n",
    "                canvas.fill_text('%d'%act, 10, 285) #(time.time()-t)\n",
    "            \n",
    "            canvas.fill_text('%s'%returns, 140, 140)\n",
    "            \n",
    "        #print(\"Done\")\n",
    "\n",
    "        \n",
    "#controller=widgets.Controller()\n",
    "#display(controller)\n",
    "canvas = Canvas(width=400, height=400)\n",
    "game=Render(canvas,controller,IsingEnv)\n",
    "\n",
    "\n",
    "print(\"Controls: X to start, Left Joystick to move\")\n",
    "\n",
    "display(canvas)\n",
    "\n",
    "game.start()"
   ]
  },
  {
   "cell_type": "code",
   "execution_count": null,
   "id": "78faafe1",
   "metadata": {},
   "outputs": [],
   "source": []
  },
  {
   "cell_type": "code",
   "execution_count": null,
   "id": "c6e24237",
   "metadata": {},
   "outputs": [],
   "source": []
  }
 ],
 "metadata": {
  "kernelspec": {
   "display_name": "Python 3",
   "language": "python",
   "name": "python3"
  },
  "language_info": {
   "codemirror_mode": {
    "name": "ipython",
    "version": 3
   },
   "file_extension": ".py",
   "mimetype": "text/x-python",
   "name": "python",
   "nbconvert_exporter": "python",
   "pygments_lexer": "ipython3",
   "version": "3.7.10"
  }
 },
 "nbformat": 4,
 "nbformat_minor": 5
}
