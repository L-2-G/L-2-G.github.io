{
 "cells": [
  {
   "cell_type": "code",
   "execution_count": 1,
   "id": "8e6ef347",
   "metadata": {
    "scrolled": true
   },
   "outputs": [],
   "source": [
    "from gymEnvs import *\n",
    "\n",
    "from gymnasium.utils.play import PlayPlot, play"
   ]
  },
  {
   "cell_type": "code",
   "execution_count": 2,
   "id": "f88acd7e",
   "metadata": {},
   "outputs": [],
   "source": [
    "# Ising gym\n",
    "\n",
    "env = IsingEnv(n=32,N=64,device=\"cpu\")\n",
    "\n",
    "key_to_action = dict(ms=1, s=2, w=3, mw=4,ma=5, a=6,d=7,md=8)\n",
    "\n",
    "play(env,keys_to_action=key_to_action)"
   ]
  },
  {
   "cell_type": "code",
   "execution_count": 3,
   "id": "394a6b51",
   "metadata": {},
   "outputs": [
    {
     "data": {
      "text/plain": [
       "[]"
      ]
     },
     "execution_count": 3,
     "metadata": {},
     "output_type": "execute_result"
    }
   ],
   "source": [
    "env.metadata.get(\"render_modes\")"
   ]
  },
  {
   "cell_type": "code",
   "execution_count": 3,
   "id": "a4593c1a",
   "metadata": {},
   "outputs": [],
   "source": [
    "o,_=env.reset()"
   ]
  },
  {
   "cell_type": "code",
   "execution_count": 31,
   "id": "6dae71f8",
   "metadata": {},
   "outputs": [],
   "source": [
    "o,r,d,*_=env.step(4)"
   ]
  },
  {
   "cell_type": "code",
   "execution_count": 32,
   "id": "e1c6d555",
   "metadata": {},
   "outputs": [
    {
     "data": {
      "text/plain": [
       "(255, 0)"
      ]
     },
     "execution_count": 32,
     "metadata": {},
     "output_type": "execute_result"
    }
   ],
   "source": [
    "np.max(o),np.min(o)"
   ]
  }
 ],
 "metadata": {
  "kernelspec": {
   "display_name": "Python 3 (ipykernel)",
   "language": "python",
   "name": "python3"
  },
  "language_info": {
   "codemirror_mode": {
    "name": "ipython",
    "version": 3
   },
   "file_extension": ".py",
   "mimetype": "text/x-python",
   "name": "python",
   "nbconvert_exporter": "python",
   "pygments_lexer": "ipython3",
   "version": "3.10.0"
  }
 },
 "nbformat": 4,
 "nbformat_minor": 5
}
