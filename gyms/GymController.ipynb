{
 "cells": [
  {
   "cell_type": "code",
   "execution_count": 1,
   "id": "8e6ef347",
   "metadata": {},
   "outputs": [],
   "source": [
    "from gymEnvs import *"
   ]
  },
  {
   "cell_type": "code",
   "execution_count": 2,
   "id": "04cdad69",
   "metadata": {},
   "outputs": [
    {
     "name": "stdout",
     "output_type": "stream",
     "text": [
      "(2, 2) (2, 2)\n"
     ]
    }
   ],
   "source": [
    "env = IsingEnv(n=32,N=64)\n",
    "obs,rew,done,_ = env.step(0)\n",
    "#plt.imshow(obs[0])\n",
    "#plt.show()"
   ]
  },
  {
   "cell_type": "markdown",
   "id": "a187320a",
   "metadata": {},
   "source": [
    "# Set up Your Controller. . ."
   ]
  },
  {
   "cell_type": "code",
   "execution_count": 3,
   "id": "a70e37ff",
   "metadata": {},
   "outputs": [
    {
     "data": {
      "application/vnd.jupyter.widget-view+json": {
       "model_id": "aee9aa366151416eba7485183268f0b8",
       "version_major": 2,
       "version_minor": 0
      },
      "text/plain": [
       "Controller()"
      ]
     },
     "metadata": {},
     "output_type": "display_data"
    }
   ],
   "source": [
    "import ipywidgets as widgets\n",
    "import time\n",
    "from threading import Thread,Lock\n",
    "from ipycanvas import Canvas\n",
    "from ipywidgets import Image, HBox\n",
    "from IPython.display import HTML, clear_output\n",
    "from traitlets import dlink\n",
    "#canvas = Canvas(width=512, height=512)\n",
    "controller = widgets.Controller(\n",
    "    index=0,\n",
    ")\n",
    "controller"
   ]
  },
  {
   "cell_type": "markdown",
   "id": "bcce99f8",
   "metadata": {},
   "source": [
    "# Playing the Environment in a Notebook Cell:"
   ]
  },
  {
   "cell_type": "code",
   "execution_count": 4,
   "id": "1aff2b28",
   "metadata": {
    "scrolled": true
   },
   "outputs": [
    {
     "name": "stdout",
     "output_type": "stream",
     "text": [
      "(2, 2) (8, 8)\n",
      "Controls: X to start, Left Joystick to move\n"
     ]
    },
    {
     "data": {
      "application/vnd.jupyter.widget-view+json": {
       "model_id": "9d271d76dc16401584de153da55f8a69",
       "version_major": 2,
       "version_minor": 0
      },
      "text/plain": [
       "Canvas(height=400, width=400)"
      ]
     },
     "metadata": {},
     "output_type": "display_data"
    }
   ],
   "source": [
    "class Render(Thread):\n",
    "    def __init__(self, canvas,pad,env,controls={'mew':0,'T':0,'start':False}):\n",
    "        self.canvas = canvas\n",
    "        self.isalive=True\n",
    "        #self.pad = widgets.Controller(index=0)\n",
    "        self.pad=pad\n",
    "        self.controls=controls\n",
    "        pad.observe(self.callback)\n",
    "        self.env=env()\n",
    "        super(Render, self).__init__()\n",
    "    def callback(self,change):\n",
    "        for joy_stick_index, axis in enumerate(change['owner'].axes):\n",
    "            if joy_stick_index==1:\n",
    "                self.controls['T']=-axis.value\n",
    "            if joy_stick_index==0:\n",
    "                self.controls['mew']=axis.value\n",
    "        for button_index, button in enumerate(change['owner'].buttons):\n",
    "            if(button_index==0):\n",
    "                self.controls['start']=button.pressed\n",
    "        #self.canvas.put_image_data(np.ones([256,256,3])*128, 0, 0)\n",
    "\n",
    "    def toaction(self):\n",
    "        T=self.controls['T']\n",
    "        taction=[0,3,4,1,2][round(2.4*T)]\n",
    "        mew=self.controls['mew']\n",
    "        maction=[0,7,8,5,6][round(2.4*mew)]\n",
    "        return max(maction,taction)\n",
    "    def run(self):\n",
    "        canvas.font = '32px serif'\n",
    "        t=time.time()\n",
    "        self.canvas.put_image_data(np.ones([256,256,3])*128, 0, 0)\n",
    "        while self.isalive:\n",
    "            done = False\n",
    "            obs=self.env.reset()\n",
    "            while not self.controls['start'] and self.isalive:\n",
    "                time.sleep(0.01)\n",
    "            \n",
    "            returns=0\n",
    "            self.steps=0\n",
    "            while not done and self.isalive:\n",
    "                act=self.toaction()\n",
    "                time.sleep(0.05)\n",
    "                self.steps+=1\n",
    "                obs,rew,done,_=self.env.step(act)\n",
    "                returns+=rew\n",
    "\n",
    "                self.canvas.put_image_data(self.env._prerender(), 0, 0)\n",
    "                \n",
    "                canvas.fill_text('%d'%act, 10, 285) #(time.time()-t)\n",
    "            \n",
    "            canvas.fill_text('%s'%returns, 140, 140)\n",
    "            \n",
    "        #print(\"Done\")\n",
    "\n",
    "        \n",
    "#controller=widgets.Controller()\n",
    "#display(controller)\n",
    "canvas = Canvas(width=400, height=400)\n",
    "game=Render(canvas,controller,IsingEnv)\n",
    "\n",
    "\n",
    "print(\"Controls: X to start, Left Joystick to move\")\n",
    "\n",
    "display(canvas)\n",
    "\n",
    "game.start()"
   ]
  },
  {
   "cell_type": "code",
   "execution_count": null,
   "id": "78faafe1",
   "metadata": {},
   "outputs": [],
   "source": []
  },
  {
   "cell_type": "code",
   "execution_count": null,
   "id": "c6e24237",
   "metadata": {},
   "outputs": [],
   "source": []
  }
 ],
 "metadata": {
  "kernelspec": {
   "display_name": "Python 3 (ipykernel)",
   "language": "python",
   "name": "python3"
  },
  "language_info": {
   "codemirror_mode": {
    "name": "ipython",
    "version": 3
   },
   "file_extension": ".py",
   "mimetype": "text/x-python",
   "name": "python",
   "nbconvert_exporter": "python",
   "pygments_lexer": "ipython3",
   "version": "3.8.16"
  }
 },
 "nbformat": 4,
 "nbformat_minor": 5
}
