{
 "cells": [
  {
   "cell_type": "code",
   "execution_count": 2,
   "id": "af1eb387",
   "metadata": {},
   "outputs": [],
   "source": [
    "import numpy as np\n",
    "from numba import jit,cuda\n",
    "from numba.cuda.random import create_xoroshiro128p_states, xoroshiro128p_uniform_float32\n",
    "from matplotlib import pyplot as plt\n",
    "import math,time\n",
    "import scipy.ndimage.filters\n",
    "from threading import Thread,Lock\n",
    "from ipywidgets import Image, HBox\n",
    "import ipywidgets as widgets\n",
    "from ipycanvas import Canvas\n",
    "import io\n",
    "\n",
    "\n",
    "\n",
    "\n",
    "class Cleanup():\n",
    "    def __init__(self):\n",
    "        self.threads = []\n",
    "    def add(self,*threads):\n",
    "        for thread in threads:\n",
    "            self.threads.append(thread)\n",
    "    def reset(self):\n",
    "        for t in self.threads:\n",
    "            t.isalive=False\n",
    "            t.join()\n",
    "        self.threads=[]\n",
    "    def hard_reset(self):\n",
    "        for a in self.threads:\n",
    "            try:\n",
    "                a.start()\n",
    "            except:\n",
    "                pass\n",
    "        self.reset()\n",
    "cleaner = Cleanup()"
   ]
  },
  {
   "cell_type": "code",
   "execution_count": 4,
   "id": "df601ebe",
   "metadata": {},
   "outputs": [],
   "source": [
    "@cuda.jit\n",
    "def fast_ising(grid,JB,mew,parity,rng_states,size):\n",
    "    \"\"\"Updates 1/4 of the grid by stochastically choosing points\n",
    "    on a checkerboard grid and updating with boltzmann probability\"\"\"\n",
    "    #find grid location\n",
    "    i,j=cuda.grid(2)\n",
    "    #get your first random number\n",
    "    n = xoroshiro128p_uniform_float32(rng_states, i*size+j)\n",
    "    #parity is 0 or 1, and tells you which half of the checkerboard to update\n",
    "    if ((i+j)%2==parity and n < 0.5 and i<size and j<size):\n",
    "        #sum the values of the nearest neighbors\n",
    "        sum_=grid[i-1][j]+grid[i+1-size][j]+grid[i][j-1]+grid[i][j+1-size]\n",
    "        #its grid*2-1 because I am using zero for spin down and 1 for spin up\n",
    "        delta = 2.0 * (grid[i][j]*2-1)*(2*sum_-4+mew)\n",
    "        #get our second random number\n",
    "        n = xoroshiro128p_uniform_float32(rng_states, i*size+j)\n",
    "        #update the cell according to the boltzmann distribution\n",
    "        if (delta < 0 or 1-n < math.exp(-JB*delta)):\n",
    "            grid[i][j]=1-grid[i][j]"
   ]
  },
  {
   "cell_type": "code",
   "execution_count": 8,
   "id": "4d65ac56",
   "metadata": {},
   "outputs": [
    {
     "name": "stdout",
     "output_type": "stream",
     "text": [
      "(16, 16)\n",
      "(16, 16)\n"
     ]
    },
    {
     "data": {
      "application/vnd.jupyter.widget-view+json": {
       "model_id": "605aad613e264063b3fe486fe48df42e",
       "version_major": 2,
       "version_minor": 0
      },
      "text/plain": [
       "interactive(children=(FloatSlider(value=0.4407, description='Beta', layout=Layout(width='50%'), max=2.0, step=…"
      ]
     },
     "metadata": {},
     "output_type": "display_data"
    },
    {
     "data": {
      "application/vnd.jupyter.widget-view+json": {
       "model_id": "f84a2ec927a84dfdb9d9c72bc0a3951f",
       "version_major": 2,
       "version_minor": 0
      },
      "text/plain": [
       "Canvas(height=512, width=512)"
      ]
     },
     "metadata": {},
     "output_type": "display_data"
    }
   ],
   "source": [
    "@cuda.jit\n",
    "def upscale(inarr,outarr):\n",
    "    i,j=cuda.grid(2)\n",
    "    iscale=outarr.shape[0]//inarr.shape[0]\n",
    "    jscale=outarr.shape[1]//inarr.shape[1]\n",
    "    outarr[i][j]=inarr[i//iscale][j//jscale]\n",
    "class Render(Thread):\n",
    "    def __init__(self, globalmem, canvas,dim=[512,512]):\n",
    "        self.upscaled=np.zeros(dim)\n",
    "        self.threads=(16,16)\n",
    "        self.blocks=(int(np.ceil(dim[0] / 16)),int(np.ceil(dim[1] / 16)))\n",
    "        self.grid_global_mem = globalmem\n",
    "        self.canvas = canvas\n",
    "        self.isalive=True\n",
    "        super(Render, self).__init__()\n",
    "    def run(self):\n",
    "        while self.isalive:\n",
    "            upscale[self.blocks,self.threads](self.grid_global_mem,self.upscaled)\n",
    "            gridf=self.upscaled\n",
    "            blue_channel = (1-gridf)*255\n",
    "            red_channel = gridf*255\n",
    "            green_channel = np.zeros_like(gridf)\n",
    "            image_data = np.stack((red_channel, green_channel, blue_channel), axis=2)\n",
    "            self.canvas.put_image_data(image_data, 0, 0)\n",
    "            time.sleep(0.01)\n",
    "            \n",
    "            \n",
    "class Ising(Thread):\n",
    "    def __init__(self, N):\n",
    "        self.N=N\n",
    "        self.grid=np.asarray(np.random.random([N,N])>0.5,dtype=np.float32)\n",
    "        self.threadsperblock = (16, 16)#should end up a multiple of 32 I think\n",
    "        blockspergrid_x = int(np.ceil(self.grid.shape[0] / self.threadsperblock[0]))\n",
    "        blockspergrid_y = int(np.ceil(self.grid.shape[1] / self.threadsperblock[1]))\n",
    "        self.blockspergrid = (blockspergrid_x, blockspergrid_y)\n",
    "        self.isalive=True\n",
    "        self.rng_states = create_xoroshiro128p_states(self.grid.size, seed=1)\n",
    "        self.grid_global_mem = cuda.to_device(self.grid)\n",
    "        self.JB=5\n",
    "        self.mew=0\n",
    "        self.rspeed=100\n",
    "        super(Ising, self).__init__()\n",
    "    def run(self):\n",
    "        while self.isalive:\n",
    "            #parity=np.random.random()>0.5\n",
    "            for x in range(self.rspeed):\n",
    "                fast_ising[self.blockspergrid, self.threadsperblock](self.grid_global_mem,self.JB,self.mew,0,self.rng_states,self.N)\n",
    "                fast_ising[self.blockspergrid, self.threadsperblock](self.grid_global_mem,self.JB,self.mew,1,self.rng_states,self.N)\n",
    "            if self.rspeed<100:\n",
    "                time.sleep(0.05)\n",
    "                \n",
    "                \n",
    "model = Ising(256)\n",
    "print(model.blockspergrid)\n",
    "print(model.threadsperblock)\n",
    "canvas = Canvas(width=512, height=512)\n",
    "rend = Render(model.grid_global_mem,canvas)\n",
    "cleaner.add(model,rend)\n",
    "model.start()\n",
    "rend.start()\n",
    "\n",
    "\n",
    "def func(Beta,mew):\n",
    "    model.JB=Beta\n",
    "    model.mew=mew\n",
    "    \n",
    "plswork = widgets.Layout(\n",
    "    width='50%'\n",
    ")\n",
    "    \n",
    "x = widgets.FloatSlider(min=0,max=2,value=0.4407,step=0.001,layout=plswork)\n",
    "x.style.handle_color = 'lightblue'\n",
    "y = widgets.FloatSlider(min=-2,max=2,step=0.001,layout=plswork)\n",
    "widgets.interact(func,Beta=x,mew=y)\n",
    "\n",
    "canvas"
   ]
  },
  {
   "cell_type": "code",
   "execution_count": 9,
   "id": "cd629e51",
   "metadata": {},
   "outputs": [],
   "source": [
    "cleaner.reset()"
   ]
  },
  {
   "cell_type": "code",
   "execution_count": null,
   "id": "3ebe5c82",
   "metadata": {},
   "outputs": [],
   "source": []
  }
 ],
 "metadata": {
  "kernelspec": {
   "display_name": "Python 3",
   "language": "python",
   "name": "python3"
  },
  "language_info": {
   "codemirror_mode": {
    "name": "ipython",
    "version": 3
   },
   "file_extension": ".py",
   "mimetype": "text/x-python",
   "name": "python",
   "nbconvert_exporter": "python",
   "pygments_lexer": "ipython3",
   "version": "3.7.10"
  }
 },
 "nbformat": 4,
 "nbformat_minor": 5
}
